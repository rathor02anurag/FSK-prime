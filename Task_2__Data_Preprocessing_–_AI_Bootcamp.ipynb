{
  "cells": [
    {
      "cell_type": "markdown",
      "metadata": {
        "id": "L982FdumDCVn"
      },
      "source": [
        "# Task 2: Data Preprocessing for Machine Learning – AI Bootcamp"
      ]
    },
    {
      "cell_type": "markdown",
      "metadata": {
        "id": "6EEWt7WNF5kP"
      },
      "source": [
        "Download Titanic Dataset here: https://web.stanford.edu/class/archive/cs/cs109/cs109.1166/stuff/titanic.csv\n",
        "\n",
        "#### About this file\n",
        "\n",
        "The sinking of the Titanic is one of the most infamous shipwrecks in history.\n",
        "\n",
        "On April 15, 1912, during her maiden voyage, the widely considered “unsinkable” RMS Titanic sank after colliding with an iceberg. Unfortunately, there weren’t enough lifeboats for everyone on board, resulting in the death of 1502 out of 2224 passengers and crew.\n",
        "\n",
        "While there was some element of luck involved in surviving, it seems some groups of people were more likely to survive than others.\n",
        "\n",
        "In this challenge, we ask you to build a predictive model that answers the question: “what sorts of people were more likely to survive?” using passenger data (ie name, age, gender, socio-economic class, etc)."
      ]
    },
    {
      "cell_type": "markdown",
      "metadata": {
        "id": "gk9AwRFXDO6n"
      },
      "source": [
        "## Section 1: Data Loading & Exploration"
      ]
    },
    {
      "cell_type": "markdown",
      "metadata": {
        "id": "tG2LLFb4DSrf"
      },
      "source": [
        "### **Task 1**: Load and Inspect a Dataset\n",
        "\n",
        "*Instruction*: Load the `titanic.csv` dataset and display the first 5 rows. Show basic info and describe statistics of the dataset."
      ]
    },
    {
      "cell_type": "code",
      "execution_count": null,
      "metadata": {
        "colab": {
          "base_uri": "https://localhost:8080/"
        },
        "id": "G6YtbgenDSWH",
        "outputId": "d11eebef-4475-4ce2-bfca-af1c9dc8048a"
      },
      "outputs": [
        {
          "name": "stdout",
          "output_type": "stream",
          "text": [
            "   Survived  Pclass                                               Name  \\\n",
            "0         0       3                             Mr. Owen Harris Braund   \n",
            "1         1       1  Mrs. John Bradley (Florence Briggs Thayer) Cum...   \n",
            "2         1       3                              Miss. Laina Heikkinen   \n",
            "3         1       1        Mrs. Jacques Heath (Lily May Peel) Futrelle   \n",
            "4         0       3                            Mr. William Henry Allen   \n",
            "\n",
            "      Sex   Age  Siblings/Spouses Aboard  Parents/Children Aboard     Fare  \n",
            "0    male  22.0                        1                        0   7.2500  \n",
            "1  female  38.0                        1                        0  71.2833  \n",
            "2  female  26.0                        0                        0   7.9250  \n",
            "3  female  35.0                        1                        0  53.1000  \n",
            "4    male  35.0                        0                        0   8.0500  \n",
            "<class 'pandas.core.frame.DataFrame'>\n",
            "RangeIndex: 887 entries, 0 to 886\n",
            "Data columns (total 8 columns):\n",
            " #   Column                   Non-Null Count  Dtype  \n",
            "---  ------                   --------------  -----  \n",
            " 0   Survived                 887 non-null    int64  \n",
            " 1   Pclass                   887 non-null    int64  \n",
            " 2   Name                     887 non-null    object \n",
            " 3   Sex                      887 non-null    object \n",
            " 4   Age                      887 non-null    float64\n",
            " 5   Siblings/Spouses Aboard  887 non-null    int64  \n",
            " 6   Parents/Children Aboard  887 non-null    int64  \n",
            " 7   Fare                     887 non-null    float64\n",
            "dtypes: float64(2), int64(4), object(2)\n",
            "memory usage: 55.6+ KB\n",
            "None\n",
            "         Survived      Pclass         Age  Siblings/Spouses Aboard  \\\n",
            "count  887.000000  887.000000  887.000000               887.000000   \n",
            "mean     0.385569    2.305524   29.471443                 0.525366   \n",
            "std      0.487004    0.836662   14.121908                 1.104669   \n",
            "min      0.000000    1.000000    0.420000                 0.000000   \n",
            "25%      0.000000    2.000000   20.250000                 0.000000   \n",
            "50%      0.000000    3.000000   28.000000                 0.000000   \n",
            "75%      1.000000    3.000000   38.000000                 1.000000   \n",
            "max      1.000000    3.000000   80.000000                 8.000000   \n",
            "\n",
            "       Parents/Children Aboard       Fare  \n",
            "count               887.000000  887.00000  \n",
            "mean                  0.383315   32.30542  \n",
            "std                   0.807466   49.78204  \n",
            "min                   0.000000    0.00000  \n",
            "25%                   0.000000    7.92500  \n",
            "50%                   0.000000   14.45420  \n",
            "75%                   0.000000   31.13750  \n",
            "max                   6.000000  512.32920  \n"
          ]
        }
      ],
      "source": [
        "import pandas as pd\n",
        "\n",
        "df = pd.read_csv('titanic.csv')\n",
        "print(df.head())\n",
        "print(df.info())\n",
        "print(df.describe())"
      ]
    },
    {
      "cell_type": "markdown",
      "metadata": {
        "id": "03CKwCBtDzRL"
      },
      "source": [
        "## Section 2: Handling Missing Values"
      ]
    },
    {
      "cell_type": "markdown",
      "metadata": {
        "id": "oh1W_9m5DuzF"
      },
      "source": [
        "### **Task 2**: Identify and Handle Missing Data\n",
        "\n",
        "*Instruction*:\n",
        "\n",
        "\n",
        "\n",
        "*   Display the number of missing values per column.\n",
        "*   Fill missing `Age` values with the median.\n",
        "*   Drop the second row in the dataset.\n",
        "\n"
      ]
    },
    {
      "cell_type": "code",
      "execution_count": 2,
      "metadata": {
        "id": "SQTsWR6GDn6e",
        "colab": {
          "base_uri": "https://localhost:8080/"
        },
        "outputId": "80dce03b-f1e3-4059-9867-332d3e491717"
      },
      "outputs": [
        {
          "output_type": "stream",
          "name": "stdout",
          "text": [
            "Survived                   0\n",
            "Pclass                     0\n",
            "Name                       0\n",
            "Sex                        0\n",
            "Age                        0\n",
            "Siblings/Spouses Aboard    0\n",
            "Parents/Children Aboard    0\n",
            "Fare                       0\n",
            "dtype: int64\n",
            "   Survived  Pclass                                         Name     Sex  \\\n",
            "0         0       3                       Mr. Owen Harris Braund    male   \n",
            "2         1       3                        Miss. Laina Heikkinen  female   \n",
            "3         1       1  Mrs. Jacques Heath (Lily May Peel) Futrelle  female   \n",
            "4         0       3                      Mr. William Henry Allen    male   \n",
            "5         0       3                              Mr. James Moran    male   \n",
            "\n",
            "    Age  Siblings/Spouses Aboard  Parents/Children Aboard     Fare  \n",
            "0  22.0                        1                        0   7.2500  \n",
            "2  26.0                        0                        0   7.9250  \n",
            "3  35.0                        1                        0  53.1000  \n",
            "4  35.0                        0                        0   8.0500  \n",
            "5  27.0                        0                        0   8.4583  \n"
          ]
        },
        {
          "output_type": "stream",
          "name": "stderr",
          "text": [
            "<ipython-input-2-6227e38eb6b7>:13: FutureWarning: A value is trying to be set on a copy of a DataFrame or Series through chained assignment using an inplace method.\n",
            "The behavior will change in pandas 3.0. This inplace method will never work because the intermediate object on which we are setting values always behaves as a copy.\n",
            "\n",
            "For example, when doing 'df[col].method(value, inplace=True)', try using 'df.method({col: value}, inplace=True)' or df[col] = df[col].method(value) instead, to perform the operation inplace on the original object.\n",
            "\n",
            "\n",
            "  df_processed['Age'].fillna(df_processed['Age'].median(), inplace=True)\n"
          ]
        }
      ],
      "source": [
        "import pandas as pd\n",
        "\n",
        "# Assuming you've already loaded your dataframe as 'df':\n",
        "df = pd.read_csv('/content/titanic.csv')\n",
        "\n",
        "# Create a copy of the DataFrame\n",
        "df_processed = df.copy()\n",
        "\n",
        "# 1. Display the number of missing values per column:\n",
        "print(df_processed.isnull().sum())\n",
        "\n",
        "# 2. Fill missing 'Age' values with the median:\n",
        "df_processed['Age'].fillna(df_processed['Age'].median(), inplace=True)\n",
        "\n",
        "# 3. Drop the second row in the dataset:\n",
        "df_processed.drop(df_processed.index[1], inplace=True)\n",
        "print(df_processed.head())\n",
        "\n"
      ]
    },
    {
      "cell_type": "markdown",
      "metadata": {
        "id": "mVV1BgZvEE3a"
      },
      "source": [
        "## Section 3: Encoding Categorical Features"
      ]
    },
    {
      "cell_type": "markdown",
      "metadata": {
        "id": "opUK7Z7LEIr4"
      },
      "source": [
        "### **Task 3**: Convert Categorical to Numeric\n",
        "\n",
        "*Instruction*: Convert `Sex` and `Pclass` columns to numeric using:\n",
        "\n",
        "\n",
        "*   Label Encoding for `Sex`\n",
        "*   One-Hot Encoding for `Pclass`\n",
        "\n"
      ]
    },
    {
      "cell_type": "code",
      "execution_count": 3,
      "metadata": {
        "id": "UW3FMdjQEEl3",
        "colab": {
          "base_uri": "https://localhost:8080/"
        },
        "outputId": "bddf696c-c61c-47f2-9394-1915df3b8074"
      },
      "outputs": [
        {
          "output_type": "stream",
          "name": "stdout",
          "text": [
            "  Pclass_1 Pclass_2 Pclass_3 Survived  \\\n",
            "0      0.0      0.0      1.0        0   \n",
            "1      0.0      0.0      1.0        1   \n",
            "2      1.0      0.0      0.0        1   \n",
            "3      0.0      0.0      1.0        0   \n",
            "4      0.0      0.0      1.0        0   \n",
            "\n",
            "                                          Name     Sex   Age  \\\n",
            "0                       Mr. Owen Harris Braund    male  22.0   \n",
            "1                        Miss. Laina Heikkinen  female  26.0   \n",
            "2  Mrs. Jacques Heath (Lily May Peel) Futrelle  female  35.0   \n",
            "3                      Mr. William Henry Allen    male  35.0   \n",
            "4                              Mr. James Moran    male  27.0   \n",
            "\n",
            "  Siblings/Spouses Aboard Parents/Children Aboard    Fare Sex_encoded  \n",
            "0                       1                       0    7.25           1  \n",
            "1                       0                       0   7.925           0  \n",
            "2                       1                       0    53.1           0  \n",
            "3                       0                       0    8.05           1  \n",
            "4                       0                       0  8.4583           1  \n"
          ]
        }
      ],
      "source": [
        "import pandas as pd\n",
        "from sklearn.preprocessing import LabelEncoder, OneHotEncoder\n",
        "from sklearn.compose import ColumnTransformer\n",
        "\n",
        "# Assuming df_processed is your DataFrame from previous steps\n",
        "\n",
        "# 1. Label Encoding for 'Sex'\n",
        "le = LabelEncoder()\n",
        "df_processed['Sex_encoded'] = le.fit_transform(df_processed['Sex'])\n",
        "\n",
        "# 2. One-Hot Encoding for 'Pclass'\n",
        "ct = ColumnTransformer(transformers=[('encoder', OneHotEncoder(), ['Pclass'])], remainder='passthrough')\n",
        "df_encoded = pd.DataFrame(ct.fit_transform(df_processed))\n",
        "\n",
        "# Get feature names after one-hot encoding\n",
        "# Assuming original features are ['Survived', 'Pclass', 'Sex', ..., 'Embarked']\n",
        "feature_names = list(ct.named_transformers_['encoder'].get_feature_names_out(['Pclass'])) + list(df_processed.columns.drop(['Pclass']))\n",
        "df_encoded.columns = feature_names\n",
        "\n",
        "# Display the updated DataFrame\n",
        "print(df_encoded.head())\n"
      ]
    },
    {
      "cell_type": "markdown",
      "metadata": {
        "id": "GNO0DPi3EpgF"
      },
      "source": [
        "## Section 4: Feature Scaling"
      ]
    },
    {
      "cell_type": "markdown",
      "metadata": {
        "id": "W74DNGaJEtdj"
      },
      "source": [
        "### **Task 4**: Scale Numerical Features\n",
        "\n",
        "*Instruction*: Use StandardScaler to scale the Age and Fare columns.*italicized text*"
      ]
    },
    {
      "cell_type": "code",
      "execution_count": 4,
      "metadata": {
        "id": "aM8iWEAXEOmE",
        "colab": {
          "base_uri": "https://localhost:8080/"
        },
        "outputId": "a39f8d3c-dea0-41bb-e1dc-0ca96289fc3a"
      },
      "outputs": [
        {
          "output_type": "stream",
          "name": "stdout",
          "text": [
            "  Pclass_1 Pclass_2 Pclass_3 Survived  \\\n",
            "0      0.0      0.0      1.0        0   \n",
            "1      0.0      0.0      1.0        1   \n",
            "2      1.0      0.0      0.0        1   \n",
            "3      0.0      0.0      1.0        0   \n",
            "4      0.0      0.0      1.0        0   \n",
            "\n",
            "                                          Name     Sex       Age  \\\n",
            "0                       Mr. Owen Harris Braund    male -0.528495   \n",
            "1                        Miss. Laina Heikkinen  female -0.245189   \n",
            "2  Mrs. Jacques Heath (Lily May Peel) Futrelle  female  0.392250   \n",
            "3                      Mr. William Henry Allen    male  0.392250   \n",
            "4                              Mr. James Moran    male -0.174362   \n",
            "\n",
            "  Siblings/Spouses Aboard Parents/Children Aboard      Fare Sex_encoded  \n",
            "0                       1                       0 -0.502593           1  \n",
            "1                       0                       0 -0.489029           0  \n",
            "2                       1                       0  0.418741           0  \n",
            "3                       0                       0 -0.486517           1  \n",
            "4                       0                       0 -0.478313           1  \n"
          ]
        }
      ],
      "source": [
        "from sklearn.preprocessing import StandardScaler\n",
        "\n",
        "# Assuming 'df_encoded' is your DataFrame and you want to scale 'Age' and 'Fare'\n",
        "scaler = StandardScaler()\n",
        "df_encoded[['Age', 'Fare']] = scaler.fit_transform(df_encoded[['Age', 'Fare']])\n",
        "print(df_encoded.head())\n"
      ]
    },
    {
      "cell_type": "markdown",
      "metadata": {
        "id": "yFxPFagsE9mS"
      },
      "source": [
        "## Section 5: Feature Engineering"
      ]
    },
    {
      "cell_type": "markdown",
      "metadata": {
        "id": "IZwIOzHXFD1a"
      },
      "source": [
        "### **Task 5**: Build Preprocessing Pipeline\n",
        "\n",
        "*Instruction*: Using `ColumnTransformer` and `Pipeline` from `sklearn`, build a pipeline that:\n",
        "\n",
        "\n",
        "\n",
        "*   Imputes missing values\n",
        "*   Scales numeric data\n",
        "*   Encodes categorical data\n",
        "\n"
      ]
    },
    {
      "cell_type": "code",
      "execution_count": 5,
      "metadata": {
        "id": "VpUFTR1JFDWk",
        "colab": {
          "base_uri": "https://localhost:8080/"
        },
        "outputId": "f1e7a0bb-1e54-450f-e06e-209f401e0c3f"
      },
      "outputs": [
        {
          "output_type": "stream",
          "name": "stdout",
          "text": [
            "  Pclass_1 Pclass_2 Pclass_3 Survived  \\\n",
            "0      0.0      0.0      1.0        0   \n",
            "1      0.0      0.0      1.0        1   \n",
            "2      1.0      0.0      0.0        1   \n",
            "3      0.0      0.0      1.0        0   \n",
            "4      0.0      0.0      1.0        0   \n",
            "\n",
            "                                          Name     Sex       Age  \\\n",
            "0                       Mr. Owen Harris Braund    male -0.528495   \n",
            "1                        Miss. Laina Heikkinen  female -0.245189   \n",
            "2  Mrs. Jacques Heath (Lily May Peel) Futrelle  female  0.392250   \n",
            "3                      Mr. William Henry Allen    male  0.392250   \n",
            "4                              Mr. James Moran    male -0.174362   \n",
            "\n",
            "  Siblings/Spouses Aboard Parents/Children Aboard      Fare Sex_encoded  \n",
            "0                       1                       0 -0.502593           1  \n",
            "1                       0                       0 -0.489029           0  \n",
            "2                       1                       0  0.418741           0  \n",
            "3                       0                       0 -0.486517           1  \n",
            "4                       0                       0 -0.478313           1  \n"
          ]
        }
      ],
      "source": [
        "from sklearn.compose import ColumnTransformer\n",
        "from sklearn.pipeline import Pipeline\n",
        "from sklearn.impute import SimpleImputer\n",
        "from sklearn.preprocessing import OneHotEncoder, StandardScaler\n",
        "\n",
        "# Define categorical and numerical features\n",
        "categorical_features = ['Sex', 'Embarked']\n",
        "numerical_features = ['Age', 'Fare']\n",
        "\n",
        "# Create pipelines for numerical and categorical features\n",
        "numerical_pipeline = Pipeline([\n",
        "    ('imputer', SimpleImputer(strategy='median')),\n",
        "    ('scaler', StandardScaler()),\n",
        "])\n",
        "\n",
        "categorical_pipeline = Pipeline([\n",
        "    ('imputer', SimpleImputer(strategy='most_frequent')),\n",
        "    ('encoder', OneHotEncoder(sparse_output=False, handle_unknown='ignore')),\n",
        "])\n",
        "\n",
        "# Combine pipelines using ColumnTransformer\n",
        "preprocessor = ColumnTransformer(\n",
        "    transformers=[\n",
        "        ('num', numerical_pipeline, numerical_features),\n",
        "        ('cat', categorical_pipeline, categorical_features),\n",
        "    ])\n",
        "\n",
        "# Assuming 'X' is your DataFrame containing the features\n",
        "# X_processed = preprocessor.fit_transform(X) # Use this line to apply the preprocessing\n",
        "print(df_encoded.head())\n"
      ]
    },
    {
      "cell_type": "markdown",
      "metadata": {
        "id": "w-OY1jI5IaIB"
      },
      "source": [
        "## Section 6: Feature Engineering"
      ]
    },
    {
      "cell_type": "markdown",
      "metadata": {
        "id": "xeBCcr3RIi-8"
      },
      "source": [
        "### **Task 6**: Create a New Feature\n",
        "\n",
        "*Instruction*: Create a new feature `FamilySize` = `Siblings/Spouses Aboard` + `Parents/Children Aboard` + 1."
      ]
    },
    {
      "cell_type": "code",
      "execution_count": 10,
      "metadata": {
        "id": "gSza6VScIakN",
        "colab": {
          "base_uri": "https://localhost:8080/"
        },
        "outputId": "3290e32b-de29-4ab9-f9ab-90290695c9a6"
      },
      "outputs": [
        {
          "output_type": "stream",
          "name": "stdout",
          "text": [
            "   Survived  Pclass                                               Name  \\\n",
            "0         0       3                             Mr. Owen Harris Braund   \n",
            "1         1       1  Mrs. John Bradley (Florence Briggs Thayer) Cum...   \n",
            "2         1       3                              Miss. Laina Heikkinen   \n",
            "3         1       1        Mrs. Jacques Heath (Lily May Peel) Futrelle   \n",
            "4         0       3                            Mr. William Henry Allen   \n",
            "\n",
            "      Sex   Age  Siblings/Spouses Aboard  Parents/Children Aboard     Fare  \\\n",
            "0    male  22.0                        1                        0   7.2500   \n",
            "1  female  38.0                        1                        0  71.2833   \n",
            "2  female  26.0                        0                        0   7.9250   \n",
            "3  female  35.0                        1                        0  53.1000   \n",
            "4    male  35.0                        0                        0   8.0500   \n",
            "\n",
            "   FamilySize  \n",
            "0           2  \n",
            "1           2  \n",
            "2           1  \n",
            "3           2  \n",
            "4           1  \n"
          ]
        }
      ],
      "source": [
        "from sklearn.compose import ColumnTransformer\n",
        "from sklearn.pipeline import Pipeline\n",
        "from sklearn.impute import SimpleImputer\n",
        "from sklearn.preprocessing import OneHotEncoder, StandardScaler\n",
        "\n",
        "data = pd.read_csv('/content/titanic.csv')\n",
        "data['FamilySize'] = data['Siblings/Spouses Aboard'] + data['Parents/Children Aboard'] + 1\n",
        "print(data.head())\n",
        "\n"
      ]
    }
  ],
  "metadata": {
    "colab": {
      "provenance": []
    },
    "kernelspec": {
      "display_name": "Python 3",
      "name": "python3"
    },
    "language_info": {
      "name": "python"
    }
  },
  "nbformat": 4,
  "nbformat_minor": 0
}